{
 "cells": [
  {
   "cell_type": "code",
   "execution_count": 1,
   "metadata": {},
   "outputs": [],
   "source": [
    "#!pip install bs4"
   ]
  },
  {
   "cell_type": "code",
   "execution_count": 2,
   "metadata": {},
   "outputs": [],
   "source": [
    "from splinter import Browser\n",
    "from bs4 import BeautifulSoup as bs"
   ]
  },
  {
   "cell_type": "code",
   "execution_count": 3,
   "metadata": {},
   "outputs": [],
   "source": [
    "# init the browser\n",
    "executable_path = {\"executable_path\": \"./chromedriver.exe\"}\n",
    "browser = Browser(\"chrome\", **executable_path, headless=False)"
   ]
  },
  {
   "cell_type": "markdown",
   "metadata": {},
   "source": [
    "### NASA Mars News"
   ]
  },
  {
   "cell_type": "code",
   "execution_count": 4,
   "metadata": {},
   "outputs": [],
   "source": [
    "# go to NASA and get the soup\n",
    "url = 'https://mars.nasa.gov/news/'\n",
    "\n",
    "browser.visit(url)\n",
    "html = browser.html\n",
    "soup = bs(html, 'lxml')\n",
    "\n",
    "#soup.prettify()\n"
   ]
  },
  {
   "cell_type": "code",
   "execution_count": 5,
   "metadata": {},
   "outputs": [
    {
     "name": "stdout",
     "output_type": "stream",
     "text": [
      "title: Virginia Middle School Student Earns Honor of Naming NASA's Next Mars Rover, \n",
      "p: NASA chose a seventh-grader from Virginia as winner of the agency's \"Name the Rover\" essay contest. Alexander Mather's entry for \"Perseverance\" was voted tops among 28,000 entries.\n"
     ]
    }
   ],
   "source": [
    "# collect the latest News Title and Paragraph Text.\n",
    "# Assign the text to variables that you can reference later.\n",
    "\n",
    "news_list = soup.find_all(\"div\", class_=\"image_and_description_container\")\n",
    "# type(news_list)\n",
    "\n",
    "news_dict = {}\n",
    "\n",
    "for news in news_list:\n",
    "    result = []\n",
    "    link = news.find(\"a\")\n",
    "    \n",
    "    # extract the tag. The largest is the lates\n",
    "    href = link.get('href')\n",
    "    tag_list = href.split('/')\n",
    "    tag = tag_list[2]\n",
    "    \n",
    "    # extract the title\n",
    "    img = news.find_all('img', alt=True)\n",
    "    title = img[1]['alt']\n",
    "    result.append(title)\n",
    "    \n",
    "    # extract the description paragraph\n",
    "    desc = news.find(\"div\", class_=\"rollover_description_inner\").get_text().strip()\n",
    "    result.append(desc)\n",
    "    news_dict[tag] = result\n",
    "\n",
    "# find the latest key\n",
    "big_key = max(k for k, v in news_dict.items())\n",
    "#print(f\"tag: {big_key}, title: {news_dict[big_key][0]}, desc: {news_dict[big_key][1]}\")\n",
    "\n",
    "news_title = news_dict[big_key][0]\n",
    "news_p = news_dict[big_key][1]\n",
    "print(f\"title: {news_title}, \\np: {news_p}\")\n"
   ]
  },
  {
   "cell_type": "markdown",
   "metadata": {},
   "source": [
    "### JPL Mars Space Images - Featured Image"
   ]
  },
  {
   "cell_type": "code",
   "execution_count": 6,
   "metadata": {},
   "outputs": [
    {
     "name": "stderr",
     "output_type": "stream",
     "text": [
      "C:\\Anaconda3\\envs\\PythonData\\lib\\site-packages\\splinter\\driver\\webdriver\\__init__.py:520: FutureWarning: browser.find_link_by_partial_href is deprecated. Use browser.links.find_by_partial_href instead.\n",
      "  FutureWarning,\n"
     ]
    },
    {
     "name": "stdout",
     "output_type": "stream",
     "text": [
      "https://photojournal.jpl.nasa.gov/jpeg/PIA18292.jpg\n"
     ]
    }
   ],
   "source": [
    "# Visit the url for JPL Featured Space Image [here](https://www.jpl.nasa.gov/spaceimages/?search=&category=Mars).\n",
    "# Use splinter to navigate the site and find the image url for the current Featured Mars Image and assign the url string to a variable called `featured_image_url`.\n",
    "# Make sure to find the image url to the full size `.jpg` image.\n",
    "# Make sure to save a complete url string for this image.\n",
    "\n",
    "# the starting point\n",
    "url = 'https://www.jpl.nasa.gov/spaceimages/?search=&category=Mars'\n",
    "\n",
    "browser.visit(url)\n",
    "# go to full image\n",
    "browser.click_link_by_id('full_image')\n",
    "# click the more info button\n",
    "browser.click_link_by_partial_href('/spaceimages/details')\n",
    "html = browser.html\n",
    "soup = bs(html, 'lxml')\n",
    "# get the links to the full images\n",
    "full_images = soup.find_all(\"div\", class_=\"download_tiff\")\n",
    "\n",
    "# extract the .jpg file path\n",
    "for i in full_images:\n",
    "    link = i.find(\"a\")\n",
    "    href = link.get('href')\n",
    "    if href.endswith('.jpg'):\n",
    "        path = href\n",
    "# make it a real, not relative path\n",
    "path = \"https:\" + path\n",
    "print(path)\n",
    "\n",
    "\n"
   ]
  },
  {
   "cell_type": "code",
   "execution_count": null,
   "metadata": {},
   "outputs": [],
   "source": []
  },
  {
   "cell_type": "code",
   "execution_count": null,
   "metadata": {},
   "outputs": [],
   "source": []
  }
 ],
 "metadata": {
  "kernelspec": {
   "display_name": "Python 3",
   "language": "python",
   "name": "python3"
  },
  "language_info": {
   "codemirror_mode": {
    "name": "ipython",
    "version": 3
   },
   "file_extension": ".py",
   "mimetype": "text/x-python",
   "name": "python",
   "nbconvert_exporter": "python",
   "pygments_lexer": "ipython3",
   "version": "3.6.9"
  }
 },
 "nbformat": 4,
 "nbformat_minor": 2
}
